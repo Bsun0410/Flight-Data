{
 "cells": [
  {
   "cell_type": "markdown",
   "metadata": {},
   "source": [
    "# INFO2950 PROJECT PHASE 3\n",
    "**Project Members:**\n",
    "Brittany Sun, Hilary Cabrera Orozco, Jessie Lee, Wen Chen"
   ]
  },
  {
   "cell_type": "markdown",
   "metadata": {},
   "source": [
    "From the feedback given in phase 2, we have narrowed the scope of our research question to:\n",
    "\n",
    "*\"How does socioeconomic status influence flight accessibility and costs for different regions in the United States?\"*\n",
    "\n"
   ]
  },
  {
   "cell_type": "markdown",
   "metadata": {},
   "source": [
    "#### Preregistration Statement 1\n",
    "\n",
    "**Hypothesis:** \n",
    "\n",
    "Null: Regions of high socioeconomic status have the same amount of access to flight routes as regions of low socioeconomic status.\n",
    "\n",
    "Alternative: Regions of high socioeconomic status have more access to flight routes than regions of low socioeconomic status.\n",
    "\n",
    "**Analysis:**\n",
    "\n",
    "Run a linear regression where we input socioeconomic status as the average per capita personal income of the airport's region and output the number of routes each airport offers. We are testing if $\\beta_{income}$ > 0."
   ]
  },
  {
   "cell_type": "markdown",
   "metadata": {},
   "source": [
    "#### Preregistration Statement 2\n",
    "\n",
    "**Hypothesis:**\n",
    "\n",
    "Null: The prices of flights do not change based on the socioeconomic trends of the region.\n",
    "\n",
    "Alternative: The prices of flights increase or decrease in relation to the socioeconomic trends of the region.\n",
    "\n",
    "**Analysis:**\n",
    "Run a linear regression where we input the average per capita personal income of the region and output the price of flights from the airport of that region given a particular year.\n",
    "We will test if $\\beta_{price}$ > 0.\n"
   ]
  },
  {
   "cell_type": "markdown",
   "metadata": {},
   "source": [
    "#### Questions for Reviewers\n",
    "\n",
    "1. Is the revised research question now more specific and applicable to the scope of the project? Are there any other considerations we should think about for the research question for the final phase?\n",
    "2. What are potential limitations forseen in our data, procedure, or analysis? Are our datasets setting us up for comprehensive analysis?\n",
    "3. What are some confounding variables you think we should generate to make our project stronger?\n",
    "4. When we are formally testing our hypotheses in future phases, should we be including both null and alternative statements?"
   ]
  }
 ],
 "metadata": {
  "kernelspec": {
   "display_name": "info2950",
   "language": "python",
   "name": "python3"
  },
  "language_info": {
   "name": "python",
   "version": "3.9.18"
  }
 },
 "nbformat": 4,
 "nbformat_minor": 2
}
